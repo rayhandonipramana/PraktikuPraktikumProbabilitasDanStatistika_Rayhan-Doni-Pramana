{
 "cells": [
  {
   "cell_type": "code",
   "execution_count": 4,
   "id": "4fb89ce1",
   "metadata": {},
   "outputs": [
    {
     "name": "stdout",
     "output_type": "stream",
     "text": [
      "      Price  SqFt  Bedrooms  Bathrooms  Offers Brick Neighborhood\n",
      "0    114300  1790         2          2       2    No         East\n",
      "1    114200  2030         4          2       3    No         East\n",
      "2    114800  1740         3          2       1    No         East\n",
      "3     94700  1980         3          2       3    No         East\n",
      "4    119800  2130         3          3       3    No         East\n",
      "..      ...   ...       ...        ...     ...   ...          ...\n",
      "123  119700  1900         3          3       3   Yes         East\n",
      "124  147900  2160         4          3       3   Yes         East\n",
      "125  113500  2070         2          2       2    No        North\n",
      "126  149900  2020         3          3       1    No         West\n",
      "127  124600  2250         3          3       4    No        North\n",
      "\n",
      "[128 rows x 7 columns]\n"
     ]
    }
   ],
   "source": [
    "import pandas as pd\n",
    "\n",
    "data_rayhan = pd.read_clipboard()\n",
    "\n",
    "#Menampilkan data\n",
    "print(data_rayhan)"
   ]
  },
  {
   "cell_type": "code",
   "execution_count": 12,
   "id": "2d898077",
   "metadata": {},
   "outputs": [
    {
     "name": "stdout",
     "output_type": "stream",
     "text": [
      "      Price  SqFt  Bedrooms  Bathrooms  Offers Brick Neighborhood\n",
      "0    114300  1790         2          2       2    No         East\n",
      "11   123000  1870         2          2       2   Yes         East\n",
      "18   111400  1700         2          2       1   Yes         East\n",
      "28    69100  1600         2          2       3    No        North\n",
      "31   112300  1930         2          2       2   Yes        North\n",
      "34   117800  2000         2          2       3    No        North\n",
      "36   117500  1880         2          2       2    No        North\n",
      "40   106600  1560         2          2       1    No         East\n",
      "42   105600  1990         2          2       3    No         East\n",
      "46   129800  1990         2          3       2    No        North\n",
      "48   115900  1980         2          2       2    No         East\n",
      "51    91100  1860         2          2       3    No        North\n",
      "52   117400  2150         2          3       4    No        North\n",
      "55   125700  1720         2          2       2   Yes         East\n",
      "61   100900  1610         2          2       2    No        North\n",
      "63   120500  1910         2          3       2    No         East\n",
      "65   111100  1450         2          2       1   Yes        North\n",
      "75   106900  1900         2          2       2    No        North\n",
      "82   164800  2050         2          2       1   Yes         West\n",
      "84    90500  1520         2          2       3    No        North\n",
      "89    97800  2010         2          2       4    No        North\n",
      "95   152500  1970         2          2       1   Yes         West\n",
      "97   126800  2000         2          2       1   Yes         East\n",
      "110  111600  1710         2          2       1    No        North\n",
      "111  114900  1740         2          2       2    No        North\n",
      "112  123600  1940         2          2       2   Yes         East\n",
      "119  109700  1920         2          2       4    No        North\n",
      "120  110400  1930         2          3       3    No        North\n",
      "122  144800  2060         2          2       1   Yes         East\n",
      "125  113500  2070         2          2       2    No        North\n"
     ]
    }
   ],
   "source": [
    "rayhan = data_rayhan[data_rayhan['Bedrooms']==2]\n",
    "\n",
    "#Menampilkan nama\n",
    "print(rayhan)"
   ]
  },
  {
   "cell_type": "code",
   "execution_count": 13,
   "id": "377f67d9",
   "metadata": {},
   "outputs": [
    {
     "name": "stdout",
     "output_type": "stream",
     "text": [
      "      Price  SqFt  Bedrooms Bathrooms  Offers Brick Neighborhood\n",
      "0    114300  1790         2     small       2    No         East\n",
      "11   123000  1870         2     small       2   Yes         East\n",
      "18   111400  1700         2     small       1   Yes         East\n",
      "28    69100  1600         2     small       3    No        North\n",
      "31   112300  1930         2     small       2   Yes        North\n",
      "34   117800  2000         2     small       3    No        North\n",
      "36   117500  1880         2     small       2    No        North\n",
      "40   106600  1560         2     small       1    No         East\n",
      "42   105600  1990         2     small       3    No         East\n",
      "46   129800  1990         2     large       2    No        North\n",
      "48   115900  1980         2     small       2    No         East\n",
      "51    91100  1860         2     small       3    No        North\n",
      "52   117400  2150         2     large       4    No        North\n",
      "55   125700  1720         2     small       2   Yes         East\n",
      "61   100900  1610         2     small       2    No        North\n",
      "63   120500  1910         2     large       2    No         East\n",
      "65   111100  1450         2     small       1   Yes        North\n",
      "75   106900  1900         2     small       2    No        North\n",
      "82   164800  2050         2     small       1   Yes         West\n",
      "84    90500  1520         2     small       3    No        North\n",
      "89    97800  2010         2     small       4    No        North\n",
      "95   152500  1970         2     small       1   Yes         West\n",
      "97   126800  2000         2     small       1   Yes         East\n",
      "110  111600  1710         2     small       1    No        North\n",
      "111  114900  1740         2     small       2    No        North\n",
      "112  123600  1940         2     small       2   Yes         East\n",
      "119  109700  1920         2     small       4    No        North\n",
      "120  110400  1930         2     large       3    No        North\n",
      "122  144800  2060         2     small       1   Yes         East\n",
      "125  113500  2070         2     small       2    No        North\n"
     ]
    },
    {
     "name": "stderr",
     "output_type": "stream",
     "text": [
      "C:\\Users\\User\\AppData\\Local\\Temp\\ipykernel_1668\\2693721461.py:1: SettingWithCopyWarning: \n",
      "A value is trying to be set on a copy of a slice from a DataFrame.\n",
      "Try using .loc[row_indexer,col_indexer] = value instead\n",
      "\n",
      "See the caveats in the documentation: https://pandas.pydata.org/pandas-docs/stable/user_guide/indexing.html#returning-a-view-versus-a-copy\n",
      "  rayhan['Bathrooms']=pd.to_numeric(rayhan['Bathrooms'])\n",
      "C:\\Users\\User\\AppData\\Local\\Temp\\ipykernel_1668\\2693721461.py:5: SettingWithCopyWarning: \n",
      "A value is trying to be set on a copy of a slice from a DataFrame.\n",
      "Try using .loc[row_indexer,col_indexer] = value instead\n",
      "\n",
      "See the caveats in the documentation: https://pandas.pydata.org/pandas-docs/stable/user_guide/indexing.html#returning-a-view-versus-a-copy\n",
      "  rayhan['Bathrooms'] = rayhan['Bathrooms'].apply(lambda x:'large'if x > 2 else 'small')\n"
     ]
    }
   ],
   "source": [
    "rayhan['Bathrooms']=pd.to_numeric(rayhan['Bathrooms'])\n",
    "\n",
    "import numpy as np\n",
    "\n",
    "rayhan['Bathrooms'] = rayhan['Bathrooms'].apply(lambda x:'large'if x > 2 else 'small')\n",
    "\n",
    "#Menampilkan DataFrame setelah modifikasi\n",
    "print(rayhan)"
   ]
  },
  {
   "cell_type": "code",
   "execution_count": 15,
   "id": "201c35a0",
   "metadata": {},
   "outputs": [
    {
     "name": "stdout",
     "output_type": "stream",
     "text": [
      "      Price  SqFt  Bedrooms Bathrooms  Offers Brick Neighborhood newvariable\n",
      "0    114300  1790         2     small       2    No         East       small\n",
      "11   123000  1870         2     small       2   Yes         East       small\n",
      "18   111400  1700         2     small       1   Yes         East       small\n",
      "28    69100  1600         2     small       3    No        North       large\n",
      "31   112300  1930         2     small       2   Yes        North       small\n",
      "34   117800  2000         2     small       3    No        North       large\n",
      "36   117500  1880         2     small       2    No        North       small\n",
      "40   106600  1560         2     small       1    No         East       small\n",
      "42   105600  1990         2     small       3    No         East       large\n",
      "46   129800  1990         2     large       2    No        North       small\n",
      "48   115900  1980         2     small       2    No         East       small\n",
      "51    91100  1860         2     small       3    No        North       large\n",
      "52   117400  2150         2     large       4    No        North       large\n",
      "55   125700  1720         2     small       2   Yes         East       small\n",
      "61   100900  1610         2     small       2    No        North       small\n",
      "63   120500  1910         2     large       2    No         East       small\n",
      "65   111100  1450         2     small       1   Yes        North       small\n",
      "75   106900  1900         2     small       2    No        North       small\n",
      "82   164800  2050         2     small       1   Yes         West       small\n",
      "84    90500  1520         2     small       3    No        North       large\n",
      "89    97800  2010         2     small       4    No        North       large\n",
      "95   152500  1970         2     small       1   Yes         West       small\n",
      "97   126800  2000         2     small       1   Yes         East       small\n",
      "110  111600  1710         2     small       1    No        North       small\n",
      "111  114900  1740         2     small       2    No        North       small\n",
      "112  123600  1940         2     small       2   Yes         East       small\n",
      "119  109700  1920         2     small       4    No        North       large\n",
      "120  110400  1930         2     large       3    No        North       large\n",
      "122  144800  2060         2     small       1   Yes         East       small\n",
      "125  113500  2070         2     small       2    No        North       small\n"
     ]
    },
    {
     "name": "stderr",
     "output_type": "stream",
     "text": [
      "C:\\Users\\User\\AppData\\Local\\Temp\\ipykernel_1668\\3728634023.py:3: SettingWithCopyWarning: \n",
      "A value is trying to be set on a copy of a slice from a DataFrame.\n",
      "Try using .loc[row_indexer,col_indexer] = value instead\n",
      "\n",
      "See the caveats in the documentation: https://pandas.pydata.org/pandas-docs/stable/user_guide/indexing.html#returning-a-view-versus-a-copy\n",
      "  rayhan['newvariable'] = np.where(rayhan['Offers'] > 2, 'large', 'small')\n"
     ]
    }
   ],
   "source": [
    "import numpy as np\n",
    "\n",
    "rayhan['newvariable'] = np.where(rayhan['Offers'] > 2, 'large', 'small')\n",
    "\n",
    "#Menampilkan DataFrame 'rayhan' setelah penambahan kolom baru\n",
    "print(rayhan)"
   ]
  },
  {
   "cell_type": "code",
   "execution_count": 17,
   "id": "8e389e25",
   "metadata": {},
   "outputs": [
    {
     "name": "stdout",
     "output_type": "stream",
     "text": [
      "      Price  SqFt  Bedrooms Bathrooms  Offers Brick Neighborhood  newvariable\n",
      "0    114300  1790         2     small       2    No         East    63.854749\n",
      "11   123000  1870         2     small       2   Yes         East    65.775401\n",
      "18   111400  1700         2     small       1   Yes         East    65.529412\n",
      "28    69100  1600         2     small       3    No        North    43.187500\n",
      "31   112300  1930         2     small       2   Yes        North    58.186528\n",
      "34   117800  2000         2     small       3    No        North    58.900000\n",
      "36   117500  1880         2     small       2    No        North    62.500000\n",
      "40   106600  1560         2     small       1    No         East    68.333333\n",
      "42   105600  1990         2     small       3    No         East    53.065327\n",
      "46   129800  1990         2     large       2    No        North    65.226131\n",
      "48   115900  1980         2     small       2    No         East    58.535354\n",
      "51    91100  1860         2     small       3    No        North    48.978495\n",
      "52   117400  2150         2     large       4    No        North    54.604651\n",
      "55   125700  1720         2     small       2   Yes         East    73.081395\n",
      "61   100900  1610         2     small       2    No        North    62.670807\n",
      "63   120500  1910         2     large       2    No         East    63.089005\n",
      "65   111100  1450         2     small       1   Yes        North    76.620690\n",
      "75   106900  1900         2     small       2    No        North    56.263158\n",
      "82   164800  2050         2     small       1   Yes         West    80.390244\n",
      "84    90500  1520         2     small       3    No        North    59.539474\n",
      "89    97800  2010         2     small       4    No        North    48.656716\n",
      "95   152500  1970         2     small       1   Yes         West    77.411168\n",
      "97   126800  2000         2     small       1   Yes         East    63.400000\n",
      "110  111600  1710         2     small       1    No        North    65.263158\n",
      "111  114900  1740         2     small       2    No        North    66.034483\n",
      "112  123600  1940         2     small       2   Yes         East    63.711340\n",
      "119  109700  1920         2     small       4    No        North    57.135417\n",
      "120  110400  1930         2     large       3    No        North    57.202073\n",
      "122  144800  2060         2     small       1   Yes         East    70.291262\n",
      "125  113500  2070         2     small       2    No        North    54.830918\n"
     ]
    },
    {
     "name": "stderr",
     "output_type": "stream",
     "text": [
      "C:\\Users\\User\\AppData\\Local\\Temp\\ipykernel_1668\\4149422385.py:2: SettingWithCopyWarning: \n",
      "A value is trying to be set on a copy of a slice from a DataFrame.\n",
      "Try using .loc[row_indexer,col_indexer] = value instead\n",
      "\n",
      "See the caveats in the documentation: https://pandas.pydata.org/pandas-docs/stable/user_guide/indexing.html#returning-a-view-versus-a-copy\n",
      "  rayhan['newvariable'] = rayhan['Price']/nama['SqFt']\n"
     ]
    }
   ],
   "source": [
    "#Menambhakan kolom baru 'newvariable'\n",
    "rayhan['newvariable'] = rayhan['Price']/nama['SqFt']\n",
    "\n",
    "#Menampilkan DataFrame 'rayhan' setelah penambahan kolom baru \n",
    "print(rayhan)"
   ]
  },
  {
   "cell_type": "code",
   "execution_count": 18,
   "id": "7210c6c7",
   "metadata": {},
   "outputs": [
    {
     "name": "stdout",
     "output_type": "stream",
     "text": [
      "      Price  SqFt  Bedrooms Bathrooms  Offers Brick Neighborhood\n",
      "0    114300  1790         2     small       2    No         East\n",
      "11   123000  1870         2     small       2   Yes         East\n",
      "18   111400  1700         2     small       1   Yes         East\n",
      "28    69100  1600         2     small       3    No        North\n",
      "31   112300  1930         2     small       2   Yes        North\n",
      "34   117800  2000         2     small       3    No        North\n",
      "36   117500  1880         2     small       2    No        North\n",
      "40   106600  1560         2     small       1    No         East\n",
      "42   105600  1990         2     small       3    No         East\n",
      "46   129800  1990         2     large       2    No        North\n",
      "48   115900  1980         2     small       2    No         East\n",
      "51    91100  1860         2     small       3    No        North\n",
      "52   117400  2150         2     large       4    No        North\n",
      "55   125700  1720         2     small       2   Yes         East\n",
      "61   100900  1610         2     small       2    No        North\n",
      "63   120500  1910         2     large       2    No         East\n",
      "65   111100  1450         2     small       1   Yes        North\n",
      "75   106900  1900         2     small       2    No        North\n",
      "82   164800  2050         2     small       1   Yes         West\n",
      "84    90500  1520         2     small       3    No        North\n",
      "89    97800  2010         2     small       4    No        North\n",
      "95   152500  1970         2     small       1   Yes         West\n",
      "97   126800  2000         2     small       1   Yes         East\n",
      "110  111600  1710         2     small       1    No        North\n",
      "111  114900  1740         2     small       2    No        North\n",
      "112  123600  1940         2     small       2   Yes         East\n",
      "119  109700  1920         2     small       4    No        North\n",
      "120  110400  1930         2     large       3    No        North\n",
      "122  144800  2060         2     small       1   Yes         East\n",
      "125  113500  2070         2     small       2    No        North\n"
     ]
    }
   ],
   "source": [
    "rayhan = rayhan.drop(columns=['newvariable'])\n",
    "\n",
    "#Menampilkan DataFrame 'rayhan'\n",
    "print(rayhan)"
   ]
  },
  {
   "cell_type": "code",
   "execution_count": 20,
   "id": "f2102a3f",
   "metadata": {},
   "outputs": [
    {
     "name": "stdout",
     "output_type": "stream",
     "text": [
      "      Price  SqFt\n",
      "0    114300  1790\n",
      "1    114200  2030\n",
      "2    114800  1740\n",
      "3     94700  1980\n",
      "4    119800  2130\n",
      "..      ...   ...\n",
      "123  119700  1900\n",
      "124  147900  2160\n",
      "125  113500  2070\n",
      "126  149900  2020\n",
      "127  124600  2250\n",
      "\n",
      "[128 rows x 2 columns]\n"
     ]
    }
   ],
   "source": [
    "kolom1dan2 = data_rayhan.iloc[:,0:2]\n",
    "\n",
    "#Menampilkan DataFrame kolom1dan2\n",
    "print(kolom1dan2)"
   ]
  },
  {
   "cell_type": "code",
   "execution_count": 22,
   "id": "02594e2a",
   "metadata": {},
   "outputs": [
    {
     "name": "stdout",
     "output_type": "stream",
     "text": [
      "     Bedrooms  Bathrooms\n",
      "0           2          2\n",
      "1           4          2\n",
      "2           3          2\n",
      "3           3          2\n",
      "4           3          3\n",
      "..        ...        ...\n",
      "123         3          3\n",
      "124         4          3\n",
      "125         2          2\n",
      "126         3          3\n",
      "127         3          3\n",
      "\n",
      "[128 rows x 2 columns]\n"
     ]
    }
   ],
   "source": [
    "#Memilih kolom 1 dan 2 dari DataFrame data_rayhan\n",
    "kolom3dan4 = data_rayhan.iloc[:,2:4]\n",
    "\n",
    "#Menampilkan DataFrame kolom3dan4\n",
    "print(kolom3dan4)"
   ]
  },
  {
   "cell_type": "code",
   "execution_count": 23,
   "id": "1574723f",
   "metadata": {},
   "outputs": [
    {
     "name": "stdout",
     "output_type": "stream",
     "text": [
      "      Price  SqFt  Bedrooms  Bathrooms\n",
      "0    114300  1790         2          2\n",
      "1    114200  2030         4          2\n",
      "2    114800  1740         3          2\n",
      "3     94700  1980         3          2\n",
      "4    119800  2130         3          3\n",
      "..      ...   ...       ...        ...\n",
      "123  119700  1900         3          3\n",
      "124  147900  2160         4          3\n",
      "125  113500  2070         2          2\n",
      "126  149900  2020         3          3\n",
      "127  124600  2250         3          3\n",
      "\n",
      "[128 rows x 4 columns]\n"
     ]
    }
   ],
   "source": [
    "#Menggunakan dua DataFrame\n",
    "kolom1sd4 = pd.concat([kolom1dan2,kolom3dan4],axis=1)\n",
    "\n",
    "#Menampilkan DataFrame kolom1sd4\n",
    "print(kolom1sd4)"
   ]
  },
  {
   "cell_type": "code",
   "execution_count": 31,
   "id": "b72768be",
   "metadata": {},
   "outputs": [
    {
     "name": "stdout",
     "output_type": "stream",
     "text": [
      "    Price  SqFt  Bedrooms  Bathrooms  Offers Brick Neighborhood\n",
      "0  114300  1790         2          2       2    No         East\n",
      "1  114200  2030         4          2       3    No         East\n",
      "2  114800  1740         3          2       1    No         East\n",
      "3   94700  1980         3          2       3    No         East\n",
      "4  119800  2130         3          3       3    No         East\n",
      "5  114600  1780         3          2       2    No        North\n"
     ]
    }
   ],
   "source": [
    "import pandas as pd\n",
    "\n",
    "# Menggabungkan baris dari dua DataFrame\n",
    "baris1sd3 = data_rayhan.iloc[0:3,:]\n",
    "baris4sd6 = data_rayhan.iloc[3:6,:]\n",
    "baris1sd6 = pd.concat([baris1sd3, baris4sd6])\n",
    "\n",
    "# Menampilkan DataFrame baris1sd6\n",
    "print(baris1sd6)\n"
   ]
  },
  {
   "cell_type": "markdown",
   "id": "8d707c2f",
   "metadata": {},
   "source": []
  },
  {
   "cell_type": "code",
   "execution_count": 29,
   "id": "efc543d0",
   "metadata": {},
   "outputs": [
    {
     "name": "stdout",
     "output_type": "stream",
     "text": [
      "      Price  SqFt  Bedrooms  Bathrooms  Offers Brick Neighborhood\n",
      "28    69100  1600         2          2       3    No        North\n",
      "54    81300  1650         3          2       3    No        North\n",
      "104   82300  1910         3          2       4    No         East\n",
      "17    83600  1990         3          3       4    No        North\n",
      "47    90300  2050         3          2       6    No        North\n",
      "..      ...   ...       ...        ...     ...   ...          ...\n",
      "81   184300  2140         4          3       2   Yes         West\n",
      "29   188000  2040         4          3       1   Yes         West\n",
      "85   188300  2250         4          3       2   Yes         West\n",
      "116  199500  2290         5          4       1   Yes         West\n",
      "103  211200  2440         4          3       3   Yes         West\n",
      "\n",
      "[128 rows x 7 columns]\n"
     ]
    }
   ],
   "source": [
    "data_rayhan_sort = data_rayhan.sort_values(by='Price')\n",
    "\n",
    "print(data_rayhan_sort)"
   ]
  },
  {
   "cell_type": "code",
   "execution_count": 36,
   "id": "d2899d3d",
   "metadata": {},
   "outputs": [
    {
     "name": "stdout",
     "output_type": "stream",
     "text": [
      "         Nama Gender  Angkatan  Tinggi Badan  Waktu Perjalanan Wilayah Tinggal\n",
      "0     Rayyhan      L      2023           180                40          Grogol\n",
      "1       Akbar      L      2023           175                35          Grogol\n",
      "2       Demas      L      2023           170                30          Grogol\n",
      "3     Dewanto      L      2023           165                25          Grogol\n",
      "4         Jet      L      2023           160                20          Grogol\n",
      "5      Tanaya      P      2023           155                15          Grogol\n",
      "6       April      P      2023           150                10          Grogol\n",
      "7    Dafasyah      L      2023           180                45          Grogol\n",
      "8       Rifqi      L      2023           175                50          Grogol\n",
      "9       Syifa      P      2023           170                55          Grogol\n",
      "10     Andrew      L      2023           165                60          Grogol\n",
      "11       Dyah      P      2023           160                40          Grogol\n",
      "12      Putra      L      2023           155                35          Grogol\n",
      "13     Aditya      L      2023           150                30          Grogol\n",
      "14    Partahi      L      2023           180                25          Grogol\n",
      "15   Almakius      L      2023           175                20          Grogol\n",
      "16   Muhammad      L      2023           170                15          Grogol\n",
      "17   Nicholas      L      2023           165                10          Grogol\n",
      "18  Nicodemus      L      2023           160                45          Grogol\n",
      "19      Kevin      L      2023           155                50          Grogol\n",
      "20     Monica      P      2023           150                55          Grogol\n",
      "21       Gwen      P      2023           180                60          Grogol\n",
      "22      Naswa      P      2023           175                40          Grogol\n",
      "23   Bahrudin      L      2023           170                35          Grogol\n",
      "24  Francisco      L      2023           165                30          Grogol\n",
      "25   Nalendra      L      2023           160                25          Grogol\n",
      "26      Kevin      L      2023           155                20          Grogol\n",
      "27      Naswa      P      2023           150                15          Grogol\n",
      "28    Nadhira      P      2023           180                10          Grogol\n",
      "29      Rafiq      L      2023           175                60          Grogol\n",
      "30       Bayu      L      2023           170                55          Grogol\n"
     ]
    }
   ],
   "source": [
    "import pandas as pd\n",
    "\n",
    "data_rayhan = pd.read_clipboard()\n",
    "\n",
    "#Menampilkan data\n",
    "print(data_rayhan)"
   ]
  },
  {
   "cell_type": "code",
   "execution_count": 56,
   "id": "d6af8e5c",
   "metadata": {},
   "outputs": [
    {
     "name": "stdout",
     "output_type": "stream",
     "text": [
      "         Nama Gender  Angkatan  Tinggi Badan  Waktu Perjalanan Wilayah Tinggal\n",
      "0     Rayyhan      L      2023           180                40          Grogol\n",
      "1       Akbar      L      2023           175                35          Grogol\n",
      "2       Demas      L      2023           170                30          Grogol\n",
      "3     Dewanto      L      2023           165                25          Grogol\n",
      "4         Jet      L      2023           160                20          Grogol\n",
      "5      Tanaya      P      2023           155                15          Grogol\n",
      "7    Dafasyah      L      2023           180                45          Grogol\n",
      "8       Rifqi      L      2023           175                50          Grogol\n",
      "9       Syifa      P      2023           170                55          Grogol\n",
      "10     Andrew      L      2023           165                60          Grogol\n",
      "11       Dyah      P      2023           160                40          Grogol\n",
      "12      Putra      L      2023           155                35          Grogol\n",
      "14    Partahi      L      2023           180                25          Grogol\n",
      "15   Almakius      L      2023           175                20          Grogol\n",
      "16   Muhammad      L      2023           170                15          Grogol\n",
      "17   Nicholas      L      2023           165                10          Grogol\n",
      "18  Nicodemus      L      2023           160                45          Grogol\n",
      "19      Kevin      L      2023           155                50          Grogol\n",
      "21       Gwen      P      2023           180                60          Grogol\n",
      "22      Naswa      P      2023           175                40          Grogol\n",
      "23   Bahrudin      L      2023           170                35          Grogol\n",
      "24  Francisco      L      2023           165                30          Grogol\n",
      "25   Nalendra      L      2023           160                25          Grogol\n",
      "26      Kevin      L      2023           155                20          Grogol\n",
      "28    Nadhira      P      2023           180                10          Grogol\n",
      "29      Rafiq      L      2023           175                60          Grogol\n",
      "30       Bayu      L      2023           170                55          Grogol\n"
     ]
    }
   ],
   "source": [
    "rayhan = data_rayhan[data_rayhan['Tinggi Badan']>150]\n",
    "\n",
    "#Menampilkan nama\n",
    "print(rayhan)"
   ]
  },
  {
   "cell_type": "code",
   "execution_count": 57,
   "id": "42cc71b6",
   "metadata": {},
   "outputs": [
    {
     "name": "stdout",
     "output_type": "stream",
     "text": [
      "         Nama Gender  Angkatan Tinggi Badan  Waktu Perjalanan Wilayah Tinggal\n",
      "0     Rayyhan      L      2023       Tinggi                40          Grogol\n",
      "1       Akbar      L      2023       Tinggi                35          Grogol\n",
      "2       Demas      L      2023       Tinggi                30          Grogol\n",
      "3     Dewanto      L      2023       Tinggi                25          Grogol\n",
      "4         Jet      L      2023       Pendek                20          Grogol\n",
      "5      Tanaya      P      2023       Pendek                15          Grogol\n",
      "7    Dafasyah      L      2023       Tinggi                45          Grogol\n",
      "8       Rifqi      L      2023       Tinggi                50          Grogol\n",
      "9       Syifa      P      2023       Tinggi                55          Grogol\n",
      "10     Andrew      L      2023       Tinggi                60          Grogol\n",
      "11       Dyah      P      2023       Pendek                40          Grogol\n",
      "12      Putra      L      2023       Pendek                35          Grogol\n",
      "14    Partahi      L      2023       Tinggi                25          Grogol\n",
      "15   Almakius      L      2023       Tinggi                20          Grogol\n",
      "16   Muhammad      L      2023       Tinggi                15          Grogol\n",
      "17   Nicholas      L      2023       Tinggi                10          Grogol\n",
      "18  Nicodemus      L      2023       Pendek                45          Grogol\n",
      "19      Kevin      L      2023       Pendek                50          Grogol\n",
      "21       Gwen      P      2023       Tinggi                60          Grogol\n",
      "22      Naswa      P      2023       Tinggi                40          Grogol\n",
      "23   Bahrudin      L      2023       Tinggi                35          Grogol\n",
      "24  Francisco      L      2023       Tinggi                30          Grogol\n",
      "25   Nalendra      L      2023       Pendek                25          Grogol\n",
      "26      Kevin      L      2023       Pendek                20          Grogol\n",
      "28    Nadhira      P      2023       Tinggi                10          Grogol\n",
      "29      Rafiq      L      2023       Tinggi                60          Grogol\n",
      "30       Bayu      L      2023       Tinggi                55          Grogol\n"
     ]
    },
    {
     "name": "stderr",
     "output_type": "stream",
     "text": [
      "C:\\Users\\User\\AppData\\Local\\Temp\\ipykernel_1668\\3818223049.py:1: SettingWithCopyWarning: \n",
      "A value is trying to be set on a copy of a slice from a DataFrame.\n",
      "Try using .loc[row_indexer,col_indexer] = value instead\n",
      "\n",
      "See the caveats in the documentation: https://pandas.pydata.org/pandas-docs/stable/user_guide/indexing.html#returning-a-view-versus-a-copy\n",
      "  rayhan['Tinggi Badan']=pd.to_numeric(rayhan['Tinggi Badan'])\n",
      "C:\\Users\\User\\AppData\\Local\\Temp\\ipykernel_1668\\3818223049.py:5: SettingWithCopyWarning: \n",
      "A value is trying to be set on a copy of a slice from a DataFrame.\n",
      "Try using .loc[row_indexer,col_indexer] = value instead\n",
      "\n",
      "See the caveats in the documentation: https://pandas.pydata.org/pandas-docs/stable/user_guide/indexing.html#returning-a-view-versus-a-copy\n",
      "  rayhan['Tinggi Badan'] = rayhan['Tinggi Badan'].apply(lambda x:'Tinggi'if x > 160 else 'Pendek')\n"
     ]
    }
   ],
   "source": [
    "rayhan['Tinggi Badan']=pd.to_numeric(rayhan['Tinggi Badan'])\n",
    "\n",
    "import numpy as np\n",
    "\n",
    "rayhan['Tinggi Badan'] = rayhan['Tinggi Badan'].apply(lambda x:'Tinggi'if x > 160 else 'Pendek')\n",
    "\n",
    "#Menampilkan DataFrame setelah modifikasi\n",
    "print(rayhan)"
   ]
  },
  {
   "cell_type": "code",
   "execution_count": 140,
   "id": "26173e46",
   "metadata": {},
   "outputs": [
    {
     "name": "stdout",
     "output_type": "stream",
     "text": [
      "         Nama Gender  Angkatan Tinggi Badan  Waktu Perjalanan Wilayah Tinggal  \\\n",
      "0     Rayyhan      L      2023       Tinggi                40          Grogol   \n",
      "1       Akbar      L      2023       Tinggi                35          Grogol   \n",
      "2       Demas      L      2023       Tinggi                30          Grogol   \n",
      "3     Dewanto      L      2023       Tinggi                25          Grogol   \n",
      "4         Jet      L      2023       Pendek                20          Grogol   \n",
      "5      Tanaya      P      2023       Pendek                15          Grogol   \n",
      "7    Dafasyah      L      2023       Tinggi                45          Grogol   \n",
      "8       Rifqi      L      2023       Tinggi                50          Grogol   \n",
      "9       Syifa      P      2023       Tinggi                55          Grogol   \n",
      "10     Andrew      L      2023       Tinggi                60          Grogol   \n",
      "11       Dyah      P      2023       Pendek                40          Grogol   \n",
      "12      Putra      L      2023       Pendek                35          Grogol   \n",
      "14    Partahi      L      2023       Tinggi                25          Grogol   \n",
      "15   Almakius      L      2023       Tinggi                20          Grogol   \n",
      "16   Muhammad      L      2023       Tinggi                15          Grogol   \n",
      "17   Nicholas      L      2023       Tinggi                10          Grogol   \n",
      "18  Nicodemus      L      2023       Pendek                45          Grogol   \n",
      "19      Kevin      L      2023       Pendek                50          Grogol   \n",
      "21       Gwen      P      2023       Tinggi                60          Grogol   \n",
      "22      Naswa      P      2023       Tinggi                40          Grogol   \n",
      "23   Bahrudin      L      2023       Tinggi                35          Grogol   \n",
      "24  Francisco      L      2023       Tinggi                30          Grogol   \n",
      "25   Nalendra      L      2023       Pendek                25          Grogol   \n",
      "26      Kevin      L      2023       Pendek                20          Grogol   \n",
      "28    Nadhira      P      2023       Tinggi                10          Grogol   \n",
      "29      Rafiq      L      2023       Tinggi                60          Grogol   \n",
      "30       Bayu      L      2023       Tinggi                55          Grogol   \n",
      "\n",
      "    Jurusan Fakultas  \n",
      "0   Infor20      FTI  \n",
      "1   Infor20      FTI  \n",
      "2   Infor20      FTI  \n",
      "3   Infor20      FTI  \n",
      "4   Infor20      FTI  \n",
      "5   Infor20      FTI  \n",
      "7   Infor20      FTI  \n",
      "8   Infor20      FTI  \n",
      "9   Infor20      FTI  \n",
      "10  Infor20      FTI  \n",
      "11  Infor20      FTI  \n",
      "12  Infor20      FTI  \n",
      "14  Infor20      FTI  \n",
      "15  Infor20      FTI  \n",
      "16  Infor20      FTI  \n",
      "17  Infor20      FTI  \n",
      "18  Infor20      FTI  \n",
      "19  Infor20      FTI  \n",
      "21  Infor20      FTI  \n",
      "22  Infor20      FTI  \n",
      "23  Infor20      FTI  \n",
      "24  Infor20      FTI  \n",
      "25  Infor20      FTI  \n",
      "26  Infor20      FTI  \n",
      "28  Infor20      FTI  \n",
      "29  Infor20      FTI  \n",
      "30  Infor20      FTI  \n"
     ]
    }
   ],
   "source": [
    "import numpy as np\n",
    "\n",
    "#Menambhakan kolom baru 'Jurusan\n",
    "rayhan = rayhan.assign(Jurusan='Infor20')\n",
    "\n",
    "#Menampilkan DataFrame 'rayhan' setelah penambahan kolom baru\n",
    "print(rayhan)"
   ]
  },
  {
   "cell_type": "code",
   "execution_count": 141,
   "id": "d3df7756",
   "metadata": {},
   "outputs": [
    {
     "name": "stdout",
     "output_type": "stream",
     "text": [
      "         Nama Gender  Angkatan Tinggi Badan  Waktu Perjalanan Wilayah Tinggal  \\\n",
      "0     Rayyhan      L      2023       Tinggi                40          Grogol   \n",
      "1       Akbar      L      2023       Tinggi                35          Grogol   \n",
      "2       Demas      L      2023       Tinggi                30          Grogol   \n",
      "3     Dewanto      L      2023       Tinggi                25          Grogol   \n",
      "4         Jet      L      2023       Pendek                20          Grogol   \n",
      "5      Tanaya      P      2023       Pendek                15          Grogol   \n",
      "7    Dafasyah      L      2023       Tinggi                45          Grogol   \n",
      "8       Rifqi      L      2023       Tinggi                50          Grogol   \n",
      "9       Syifa      P      2023       Tinggi                55          Grogol   \n",
      "10     Andrew      L      2023       Tinggi                60          Grogol   \n",
      "11       Dyah      P      2023       Pendek                40          Grogol   \n",
      "12      Putra      L      2023       Pendek                35          Grogol   \n",
      "14    Partahi      L      2023       Tinggi                25          Grogol   \n",
      "15   Almakius      L      2023       Tinggi                20          Grogol   \n",
      "16   Muhammad      L      2023       Tinggi                15          Grogol   \n",
      "17   Nicholas      L      2023       Tinggi                10          Grogol   \n",
      "18  Nicodemus      L      2023       Pendek                45          Grogol   \n",
      "19      Kevin      L      2023       Pendek                50          Grogol   \n",
      "21       Gwen      P      2023       Tinggi                60          Grogol   \n",
      "22      Naswa      P      2023       Tinggi                40          Grogol   \n",
      "23   Bahrudin      L      2023       Tinggi                35          Grogol   \n",
      "24  Francisco      L      2023       Tinggi                30          Grogol   \n",
      "25   Nalendra      L      2023       Pendek                25          Grogol   \n",
      "26      Kevin      L      2023       Pendek                20          Grogol   \n",
      "28    Nadhira      P      2023       Tinggi                10          Grogol   \n",
      "29      Rafiq      L      2023       Tinggi                60          Grogol   \n",
      "30       Bayu      L      2023       Tinggi                55          Grogol   \n",
      "\n",
      "    Jurusan Fakultas  \n",
      "0   Infor20      FTI  \n",
      "1   Infor20      FTI  \n",
      "2   Infor20      FTI  \n",
      "3   Infor20      FTI  \n",
      "4   Infor20      FTI  \n",
      "5   Infor20      FTI  \n",
      "7   Infor20      FTI  \n",
      "8   Infor20      FTI  \n",
      "9   Infor20      FTI  \n",
      "10  Infor20      FTI  \n",
      "11  Infor20      FTI  \n",
      "12  Infor20      FTI  \n",
      "14  Infor20      FTI  \n",
      "15  Infor20      FTI  \n",
      "16  Infor20      FTI  \n",
      "17  Infor20      FTI  \n",
      "18  Infor20      FTI  \n",
      "19  Infor20      FTI  \n",
      "21  Infor20      FTI  \n",
      "22  Infor20      FTI  \n",
      "23  Infor20      FTI  \n",
      "24  Infor20      FTI  \n",
      "25  Infor20      FTI  \n",
      "26  Infor20      FTI  \n",
      "28  Infor20      FTI  \n",
      "29  Infor20      FTI  \n",
      "30  Infor20      FTI  \n"
     ]
    }
   ],
   "source": [
    "#Menambhakan kolom baru 'Fakultas'\n",
    "rayhan = rayhan.assign(Fakultas='FTI')\n",
    "\n",
    "#Menampilkan DataFrame 'rayhan' setelah penambahan kolom baru\n",
    "print(rayhan)"
   ]
  },
  {
   "cell_type": "code",
   "execution_count": 147,
   "id": "d7981cff",
   "metadata": {},
   "outputs": [
    {
     "name": "stdout",
     "output_type": "stream",
     "text": [
      "         Nama Gender  Angkatan Tinggi Badan  Waktu Perjalanan Wilayah Tinggal  \\\n",
      "0     Rayyhan      L      2023       Tinggi                40          Grogol   \n",
      "1       Akbar      L      2023       Tinggi                35          Grogol   \n",
      "2       Demas      L      2023       Tinggi                30          Grogol   \n",
      "3     Dewanto      L      2023       Tinggi                25          Grogol   \n",
      "4         Jet      L      2023       Pendek                20          Grogol   \n",
      "5      Tanaya      P      2023       Pendek                15          Grogol   \n",
      "7    Dafasyah      L      2023       Tinggi                45          Grogol   \n",
      "8       Rifqi      L      2023       Tinggi                50          Grogol   \n",
      "9       Syifa      P      2023       Tinggi                55          Grogol   \n",
      "10     Andrew      L      2023       Tinggi                60          Grogol   \n",
      "11       Dyah      P      2023       Pendek                40          Grogol   \n",
      "12      Putra      L      2023       Pendek                35          Grogol   \n",
      "14    Partahi      L      2023       Tinggi                25          Grogol   \n",
      "15   Almakius      L      2023       Tinggi                20          Grogol   \n",
      "16   Muhammad      L      2023       Tinggi                15          Grogol   \n",
      "17   Nicholas      L      2023       Tinggi                10          Grogol   \n",
      "18  Nicodemus      L      2023       Pendek                45          Grogol   \n",
      "19      Kevin      L      2023       Pendek                50          Grogol   \n",
      "21       Gwen      P      2023       Tinggi                60          Grogol   \n",
      "22      Naswa      P      2023       Tinggi                40          Grogol   \n",
      "23   Bahrudin      L      2023       Tinggi                35          Grogol   \n",
      "24  Francisco      L      2023       Tinggi                30          Grogol   \n",
      "25   Nalendra      L      2023       Pendek                25          Grogol   \n",
      "26      Kevin      L      2023       Pendek                20          Grogol   \n",
      "28    Nadhira      P      2023       Tinggi                10          Grogol   \n",
      "29      Rafiq      L      2023       Tinggi                60          Grogol   \n",
      "30       Bayu      L      2023       Tinggi                55          Grogol   \n",
      "\n",
      "    Jurusan  \n",
      "0   Infor20  \n",
      "1   Infor20  \n",
      "2   Infor20  \n",
      "3   Infor20  \n",
      "4   Infor20  \n",
      "5   Infor20  \n",
      "7   Infor20  \n",
      "8   Infor20  \n",
      "9   Infor20  \n",
      "10  Infor20  \n",
      "11  Infor20  \n",
      "12  Infor20  \n",
      "14  Infor20  \n",
      "15  Infor20  \n",
      "16  Infor20  \n",
      "17  Infor20  \n",
      "18  Infor20  \n",
      "19  Infor20  \n",
      "21  Infor20  \n",
      "22  Infor20  \n",
      "23  Infor20  \n",
      "24  Infor20  \n",
      "25  Infor20  \n",
      "26  Infor20  \n",
      "28  Infor20  \n",
      "29  Infor20  \n",
      "30  Infor20  \n"
     ]
    }
   ],
   "source": [
    "rayhan = rayhan.drop(columns=['Fakultas'])\n",
    "\n",
    "#Menampilkan DataFrame 'rayhan'\n",
    "print(rayhan)"
   ]
  },
  {
   "cell_type": "code",
   "execution_count": 80,
   "id": "bc28c2cc",
   "metadata": {},
   "outputs": [
    {
     "name": "stdout",
     "output_type": "stream",
     "text": [
      "         Nama Gender\n",
      "0     Rayyhan      L\n",
      "1       Akbar      L\n",
      "2       Demas      L\n",
      "3     Dewanto      L\n",
      "4         Jet      L\n",
      "5      Tanaya      P\n",
      "6       April      P\n",
      "7    Dafasyah      L\n",
      "8       Rifqi      L\n",
      "9       Syifa      P\n",
      "10     Andrew      L\n",
      "11       Dyah      P\n",
      "12      Putra      L\n",
      "13     Aditya      L\n",
      "14    Partahi      L\n",
      "15   Almakius      L\n",
      "16   Muhammad      L\n",
      "17   Nicholas      L\n",
      "18  Nicodemus      L\n",
      "19      Kevin      L\n",
      "20     Monica      P\n",
      "21       Gwen      P\n",
      "22      Naswa      P\n",
      "23   Bahrudin      L\n",
      "24  Francisco      L\n",
      "25   Nalendra      L\n",
      "26      Kevin      L\n",
      "27      Naswa      P\n",
      "28    Nadhira      P\n",
      "29      Rafiq      L\n",
      "30       Bayu      L\n"
     ]
    }
   ],
   "source": [
    "kolom1dan2 = data_rayhan.iloc[:,0:2]\n",
    "\n",
    "#Menampilkan DataFrame kolom1dan2\n",
    "print(kolom1dan2)"
   ]
  },
  {
   "cell_type": "code",
   "execution_count": 81,
   "id": "1d76a985",
   "metadata": {},
   "outputs": [
    {
     "name": "stdout",
     "output_type": "stream",
     "text": [
      "    Angkatan  Tinggi Badan\n",
      "0       2023           180\n",
      "1       2023           175\n",
      "2       2023           170\n",
      "3       2023           165\n",
      "4       2023           160\n",
      "5       2023           155\n",
      "6       2023           150\n",
      "7       2023           180\n",
      "8       2023           175\n",
      "9       2023           170\n",
      "10      2023           165\n",
      "11      2023           160\n",
      "12      2023           155\n",
      "13      2023           150\n",
      "14      2023           180\n",
      "15      2023           175\n",
      "16      2023           170\n",
      "17      2023           165\n",
      "18      2023           160\n",
      "19      2023           155\n",
      "20      2023           150\n",
      "21      2023           180\n",
      "22      2023           175\n",
      "23      2023           170\n",
      "24      2023           165\n",
      "25      2023           160\n",
      "26      2023           155\n",
      "27      2023           150\n",
      "28      2023           180\n",
      "29      2023           175\n",
      "30      2023           170\n"
     ]
    }
   ],
   "source": [
    "#Memilih kolom 1 dan 2 dari DataFrame data_rayhan\n",
    "kolom3dan4 = data_rayhan.iloc[:,2:4]\n",
    "\n",
    "#Menampilkan DataFrame kolom3dan4\n",
    "print(kolom3dan4)"
   ]
  },
  {
   "cell_type": "code",
   "execution_count": 82,
   "id": "8d6c3fd7",
   "metadata": {},
   "outputs": [
    {
     "name": "stdout",
     "output_type": "stream",
     "text": [
      "         Nama Gender  Angkatan  Tinggi Badan\n",
      "0     Rayyhan      L      2023           180\n",
      "1       Akbar      L      2023           175\n",
      "2       Demas      L      2023           170\n",
      "3     Dewanto      L      2023           165\n",
      "4         Jet      L      2023           160\n",
      "5      Tanaya      P      2023           155\n",
      "6       April      P      2023           150\n",
      "7    Dafasyah      L      2023           180\n",
      "8       Rifqi      L      2023           175\n",
      "9       Syifa      P      2023           170\n",
      "10     Andrew      L      2023           165\n",
      "11       Dyah      P      2023           160\n",
      "12      Putra      L      2023           155\n",
      "13     Aditya      L      2023           150\n",
      "14    Partahi      L      2023           180\n",
      "15   Almakius      L      2023           175\n",
      "16   Muhammad      L      2023           170\n",
      "17   Nicholas      L      2023           165\n",
      "18  Nicodemus      L      2023           160\n",
      "19      Kevin      L      2023           155\n",
      "20     Monica      P      2023           150\n",
      "21       Gwen      P      2023           180\n",
      "22      Naswa      P      2023           175\n",
      "23   Bahrudin      L      2023           170\n",
      "24  Francisco      L      2023           165\n",
      "25   Nalendra      L      2023           160\n",
      "26      Kevin      L      2023           155\n",
      "27      Naswa      P      2023           150\n",
      "28    Nadhira      P      2023           180\n",
      "29      Rafiq      L      2023           175\n",
      "30       Bayu      L      2023           170\n"
     ]
    }
   ],
   "source": [
    "#Menggunakan dua DataFrame\n",
    "kolom1sd4 = pd.concat([kolom1dan2,kolom3dan4],axis=1)\n",
    "\n",
    "#Menampilkan DataFrame kolom1sd4\n",
    "print(kolom1sd4)"
   ]
  },
  {
   "cell_type": "code",
   "execution_count": 83,
   "id": "3e3ac257",
   "metadata": {},
   "outputs": [
    {
     "name": "stdout",
     "output_type": "stream",
     "text": [
      "      Nama Gender  Angkatan  Tinggi Badan  Waktu Perjalanan Wilayah Tinggal\n",
      "0  Rayyhan      L      2023           180                40          Grogol\n",
      "1    Akbar      L      2023           175                35          Grogol\n",
      "2    Demas      L      2023           170                30          Grogol\n",
      "3  Dewanto      L      2023           165                25          Grogol\n",
      "4      Jet      L      2023           160                20          Grogol\n",
      "5   Tanaya      P      2023           155                15          Grogol\n"
     ]
    }
   ],
   "source": [
    "import pandas as pd\n",
    "\n",
    "# Menggabungkan baris dari dua DataFrame\n",
    "baris1sd3 = data_rayhan.iloc[0:3,:]\n",
    "baris4sd6 = data_rayhan.iloc[3:6,:]\n",
    "baris1sd6 = pd.concat([baris1sd3, baris4sd6])\n",
    "\n",
    "# Menampilkan DataFrame baris1sd6\n",
    "print(baris1sd6)"
   ]
  },
  {
   "cell_type": "code",
   "execution_count": 94,
   "id": "cfc76b20",
   "metadata": {},
   "outputs": [
    {
     "name": "stdout",
     "output_type": "stream",
     "text": [
      "        Nama Gender  Angkatan  Tinggi Badan  Waktu Perjalanan Wilayah Tinggal\n",
      "25  Nalendra      L      2023           160                25          Grogol\n",
      "26     Kevin      L      2023           155                20          Grogol\n",
      "27     Naswa      P      2023           150                15          Grogol\n",
      "28   Nadhira      P      2023           180                10          Grogol\n",
      "29     Rafiq      L      2023           175                60          Grogol\n",
      "30      Bayu      L      2023           170                55          Grogol\n",
      "25  Nalendra      L      2023           160                25          Grogol\n",
      "26     Kevin      L      2023           155                20          Grogol\n",
      "27     Naswa      P      2023           150                15          Grogol\n",
      "28   Nadhira      P      2023           180                10          Grogol\n",
      "29     Rafiq      L      2023           175                60          Grogol\n",
      "30      Bayu      L      2023           170                55          Grogol\n"
     ]
    }
   ],
   "source": [
    "# Mengambil baris 25-30 dari DataFrame pertama\n",
    "baris25sd30_df1 = data_rayhan.iloc[25:31, :]\n",
    "\n",
    "# Mengambil baris 25-30 dari DataFrame kedua\n",
    "# (Anda perlu mengganti data_rayhan dengan nama DataFrame kedua jika berbeda)\n",
    "baris25sd30_df2 = data_rayhan.iloc[25:31, :]\n",
    "\n",
    "# Menggabungkan baris 25-30 dari kedua DataFrame\n",
    "baris25sd30 = pd.concat([baris25sd30_df1, baris25sd30_df2])\n",
    "\n",
    "# Menampilkan DataFrame gabungan\n",
    "print(baris25sd30)"
   ]
  },
  {
   "cell_type": "code",
   "execution_count": 146,
   "id": "512a243a",
   "metadata": {},
   "outputs": [
    {
     "name": "stdout",
     "output_type": "stream",
     "text": [
      "       Nama Gender  Angkatan  Tinggi Badan  Waktu Perjalanan Wilayah Tinggal  \\\n",
      "0   Rayyhan      L    2023.0         180.0              40.0          Grogol   \n",
      "1     Akbar      L    2023.0         175.0              35.0          Grogol   \n",
      "2     Demas      L    2023.0         170.0              30.0          Grogol   \n",
      "3   Dewanto      L    2023.0         165.0              25.0          Grogol   \n",
      "4       Jet      L    2023.0         160.0              20.0          Grogol   \n",
      "5    Tanaya      P    2023.0         155.0              15.0          Grogol   \n",
      "25      NaN    NaN       NaN           NaN               NaN             NaN   \n",
      "26      NaN    NaN       NaN           NaN               NaN             NaN   \n",
      "27      NaN    NaN       NaN           NaN               NaN             NaN   \n",
      "28      NaN    NaN       NaN           NaN               NaN             NaN   \n",
      "29      NaN    NaN       NaN           NaN               NaN             NaN   \n",
      "30      NaN    NaN       NaN           NaN               NaN             NaN   \n",
      "\n",
      "        Nama Gender  Angkatan  Tinggi Badan  Waktu Perjalanan Wilayah Tinggal  \n",
      "0        NaN    NaN       NaN           NaN               NaN             NaN  \n",
      "1        NaN    NaN       NaN           NaN               NaN             NaN  \n",
      "2        NaN    NaN       NaN           NaN               NaN             NaN  \n",
      "3        NaN    NaN       NaN           NaN               NaN             NaN  \n",
      "4        NaN    NaN       NaN           NaN               NaN             NaN  \n",
      "5        NaN    NaN       NaN           NaN               NaN             NaN  \n",
      "25  Nalendra      L    2023.0         160.0              25.0          Grogol  \n",
      "26     Kevin      L    2023.0         155.0              20.0          Grogol  \n",
      "27     Naswa      P    2023.0         150.0              15.0          Grogol  \n",
      "28   Nadhira      P    2023.0         180.0              10.0          Grogol  \n",
      "29     Rafiq      L    2023.0         175.0              60.0          Grogol  \n",
      "30      Bayu      L    2023.0         170.0              55.0          Grogol  \n"
     ]
    }
   ],
   "source": [
    "#Menggunakan dua DataFrame\n",
    "gabungan = pd.concat([baris1sd6 , baris25sd30_df2 ],axis=1)\n",
    "\n",
    "#Menampilkan DataFrame kolom1sd4\n",
    "print(gabungan)"
   ]
  },
  {
   "cell_type": "code",
   "execution_count": 144,
   "id": "26c81683",
   "metadata": {},
   "outputs": [
    {
     "name": "stdout",
     "output_type": "stream",
     "text": [
      "         Nama Gender  Angkatan  Tinggi Badan  Waktu Perjalanan Wilayah Tinggal\n",
      "17   Nicholas      L      2023           165                10          Grogol\n",
      "28    Nadhira      P      2023           180                10          Grogol\n",
      "6       April      P      2023           150                10          Grogol\n",
      "16   Muhammad      L      2023           170                15          Grogol\n",
      "27      Naswa      P      2023           150                15          Grogol\n",
      "5      Tanaya      P      2023           155                15          Grogol\n",
      "15   Almakius      L      2023           175                20          Grogol\n",
      "26      Kevin      L      2023           155                20          Grogol\n",
      "4         Jet      L      2023           160                20          Grogol\n",
      "3     Dewanto      L      2023           165                25          Grogol\n",
      "25   Nalendra      L      2023           160                25          Grogol\n",
      "14    Partahi      L      2023           180                25          Grogol\n",
      "2       Demas      L      2023           170                30          Grogol\n",
      "24  Francisco      L      2023           165                30          Grogol\n",
      "13     Aditya      L      2023           150                30          Grogol\n",
      "12      Putra      L      2023           155                35          Grogol\n",
      "23   Bahrudin      L      2023           170                35          Grogol\n",
      "1       Akbar      L      2023           175                35          Grogol\n",
      "22      Naswa      P      2023           175                40          Grogol\n",
      "0     Rayyhan      L      2023           180                40          Grogol\n",
      "11       Dyah      P      2023           160                40          Grogol\n",
      "18  Nicodemus      L      2023           160                45          Grogol\n",
      "7    Dafasyah      L      2023           180                45          Grogol\n",
      "8       Rifqi      L      2023           175                50          Grogol\n",
      "19      Kevin      L      2023           155                50          Grogol\n",
      "20     Monica      P      2023           150                55          Grogol\n",
      "9       Syifa      P      2023           170                55          Grogol\n",
      "30       Bayu      L      2023           170                55          Grogol\n",
      "21       Gwen      P      2023           180                60          Grogol\n",
      "29      Rafiq      L      2023           175                60          Grogol\n",
      "10     Andrew      L      2023           165                60          Grogol\n"
     ]
    }
   ],
   "source": [
    "data_rayhan_sort = data_rayhan.sort_values(by='Waktu Perjalanan')\n",
    "\n",
    "print(data_rayhan_sort)"
   ]
  }
 ],
 "metadata": {
  "kernelspec": {
   "display_name": "Python 3 (ipykernel)",
   "language": "python",
   "name": "python3"
  },
  "language_info": {
   "codemirror_mode": {
    "name": "ipython",
    "version": 3
   },
   "file_extension": ".py",
   "mimetype": "text/x-python",
   "name": "python",
   "nbconvert_exporter": "python",
   "pygments_lexer": "ipython3",
   "version": "3.11.5"
  }
 },
 "nbformat": 4,
 "nbformat_minor": 5
}
