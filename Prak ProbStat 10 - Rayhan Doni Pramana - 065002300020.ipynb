{
 "cells": [
  {
   "cell_type": "code",
   "execution_count": 2,
   "id": "5f170fea",
   "metadata": {},
   "outputs": [
    {
     "name": "stdout",
     "output_type": "stream",
     "text": [
      "Nilai F: 3.347702318015454\n",
      "Nilai p: 0.06993237223084404\n"
     ]
    }
   ],
   "source": [
    "import numpy as np\n",
    "import scipy.stats as stats\n",
    "\n",
    "\n",
    "# Data waktu produksi dari ketiga mesin\n",
    "metode_A = np.array([77, 54, 67, 74, 71])\n",
    "metode_B = np.array([60, 41, 59, 65, 62])\n",
    "metode_C = np.array([49, 52, 69, 47, 56])\n",
    "\n",
    "\n",
    "# Gabungkan data ke dalam satu array\n",
    "data_rayhan = [metode_A, metode_B, metode_C]\n",
    "\n",
    "\n",
    "# Hitung ANOVA menggunakan scipy.stats\n",
    "f_statistic, p_value = stats.f_oneway(metode_A, metode_B, metode_C)\n",
    "\n",
    "\n",
    "# Tampilkan hasil\n",
    "print(f\"Nilai F: {f_statistic}\")\n",
    "print(f\"Nilai p: {p_value}\")"
   ]
  },
  {
   "cell_type": "code",
   "execution_count": 8,
   "id": "8ed15c20",
   "metadata": {},
   "outputs": [
    {
     "name": "stdout",
     "output_type": "stream",
     "text": [
      "   weight group\n",
      "0    4.17  ctrl\n",
      "1    5.58  ctrl\n",
      "2    5.18  ctrl\n",
      "3    6.11  ctrl\n",
      "4    4.50  ctrl\n",
      "                            OLS Regression Results                            \n",
      "==============================================================================\n",
      "Dep. Variable:                 weight   R-squared:                       0.264\n",
      "Model:                            OLS   Adj. R-squared:                  0.210\n",
      "Method:                 Least Squares   F-statistic:                     4.846\n",
      "Date:                Wed, 05 Jun 2024   Prob (F-statistic):             0.0159\n",
      "Time:                        18:26:28   Log-Likelihood:                -26.810\n",
      "No. Observations:                  30   AIC:                             59.62\n",
      "Df Residuals:                      27   BIC:                             63.82\n",
      "Df Model:                           2                                         \n",
      "Covariance Type:            nonrobust                                         \n",
      "=================================================================================\n",
      "                    coef    std err          t      P>|t|      [0.025      0.975]\n",
      "---------------------------------------------------------------------------------\n",
      "Intercept         5.0320      0.197     25.527      0.000       4.628       5.436\n",
      "group[T.trt1]    -0.3710      0.279     -1.331      0.194      -0.943       0.201\n",
      "group[T.trt2]     0.4940      0.279      1.772      0.088      -0.078       1.066\n",
      "==============================================================================\n",
      "Omnibus:                        1.835   Durbin-Watson:                   2.704\n",
      "Prob(Omnibus):                  0.400   Jarque-Bera (JB):                1.406\n",
      "Skew:                           0.524   Prob(JB):                        0.495\n",
      "Kurtosis:                       2.835   Cond. No.                         3.73\n",
      "==============================================================================\n",
      "\n",
      "Notes:\n",
      "[1] Standard Errors assume that the covariance matrix of the errors is correctly specified.\n",
      "Multiple Comparison of Means - Tukey HSD, FWER=0.05\n",
      "===================================================\n",
      "group1 group2 meandiff p-adj   lower  upper  reject\n",
      "---------------------------------------------------\n",
      "  ctrl   trt1   -0.371 0.3909 -1.0622 0.3202  False\n",
      "  ctrl   trt2    0.494  0.198 -0.1972 1.1852  False\n",
      "  trt1   trt2    0.865  0.012  0.1738 1.5562   True\n",
      "---------------------------------------------------\n"
     ]
    }
   ],
   "source": [
    "import pandas as pd\n",
    "import statsmodels.api as sm\n",
    "from statsmodels.formula.api import ols\n",
    "\n",
    "df_rayhan = sm.datasets.get_rdataset(\"PlantGrowth\").data\n",
    "print(df_rayhan.head())\n",
    "\n",
    "model = ols('weight ~ group', data=df_rayhan).fit()\n",
    "print(model.summary())\n",
    "\n",
    "tukey_test = sm.stats.multicomp.pairwise_tukeyhsd(df_rayhan['weight'], df_rayhan['group'])\n",
    "print(tukey_test)"
   ]
  },
  {
   "cell_type": "code",
   "execution_count": null,
   "id": "48aa11c0",
   "metadata": {},
   "outputs": [],
   "source": []
  }
 ],
 "metadata": {
  "kernelspec": {
   "display_name": "Python 3 (ipykernel)",
   "language": "python",
   "name": "python3"
  },
  "language_info": {
   "codemirror_mode": {
    "name": "ipython",
    "version": 3
   },
   "file_extension": ".py",
   "mimetype": "text/x-python",
   "name": "python",
   "nbconvert_exporter": "python",
   "pygments_lexer": "ipython3",
   "version": "3.11.5"
  }
 },
 "nbformat": 4,
 "nbformat_minor": 5
}
