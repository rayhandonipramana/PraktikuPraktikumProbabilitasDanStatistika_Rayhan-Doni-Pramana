{
 "cells": [
  {
   "cell_type": "code",
   "execution_count": 1,
   "id": "702c060e",
   "metadata": {},
   "outputs": [
    {
     "name": "stdout",
     "output_type": "stream",
     "text": [
      "Chi-Square Statistic: 0.1873409923409925\n",
      "P-value: 0.999872291854867\n",
      "Degrees of Freedom: 6\n",
      "Expected Frequencies:\n",
      "[[ 8.10810811 21.62162162 14.86486486  5.40540541]\n",
      " [10.54054054 28.10810811 19.32432432  7.02702703]\n",
      " [11.35135135 30.27027027 20.81081081  7.56756757]]\n",
      "Gagal Tolak H0: Tidak terdapat hubungan antara kecukupan tidur dan kekuatan gowes.\n"
     ]
    }
   ],
   "source": [
    "import numpy as np\n",
    "from scipy.stats import chi2_contingency\n",
    "\n",
    "\n",
    "# Data dari tabel\n",
    "data = np.array([[8, 22, 15, 5],\n",
    "                 [10, 28, 20, 7],\n",
    "                 [12, 30, 20, 8]])\n",
    "\n",
    "\n",
    "# Menghitung chi-kuadrat\n",
    "chi2, p, dof, expected = chi2_contingency(data)\n",
    "\n",
    "\n",
    "# Menampilkan hasil\n",
    "print(f\"Chi-Square Statistic: {chi2}\")\n",
    "print(f\"P-value: {p}\")\n",
    "print(f\"Degrees of Freedom: {dof}\")\n",
    "print(\"Expected Frequencies:\")\n",
    "print(expected)\n",
    "\n",
    "\n",
    "# Menentukan keputusan\n",
    "alpha = 0.05\n",
    "if p < alpha:\n",
    "    print(\"Tolak H0: Terdapat hubungan antara kecukupan tidur dan kekuatan gowes.\")\n",
    "else:\n",
    "    print(\"Gagal Tolak H0: Tidak terdapat hubungan antara kecukupan tidur dan kekuatan gowes.\")"
   ]
  },
  {
   "cell_type": "code",
   "execution_count": 2,
   "id": "22794bba",
   "metadata": {},
   "outputs": [
    {
     "name": "stdout",
     "output_type": "stream",
     "text": [
      "Statistik Uji Kolmogorov-Smirnov: 0.18805925481308217\n",
      "p-value: 0.5606487063640894\n",
      "Data berdistribusi normal (gagal menolak H0)\n"
     ]
    }
   ],
   "source": [
    "import numpy as np\n",
    "from scipy import stats\n",
    "\n",
    "\n",
    "# Data sampel nilai dari 15 mahasiswa\n",
    "data = [904, 920, 973, 1001, 1002, 1002, 1012, 1016, 1039, 1086, 1140, 1146, 1168, 1233, 1255, 1348]\n",
    "\n",
    "\n",
    "# Melakukan Uji Kolmogorov-Smirnov\n",
    "stat, p_value = stats.kstest(data, 'norm', args=(np.mean(data), np.std(data, ddof=1)))\n",
    "\n",
    "\n",
    "print(\"Statistik Uji Kolmogorov-Smirnov:\", stat)\n",
    "print(\"p-value:\", p_value)\n",
    "\n",
    "\n",
    "# Menentukan apakah data berdistribusi normal atau tidak\n",
    "alpha = 0.05\n",
    "if p_value > alpha:\n",
    "    print(\"Data berdistribusi normal (gagal menolak H0)\")\n",
    "else:\n",
    "    print(\"Data tidak berdistribusi normal (menolak H0)\")"
   ]
  },
  {
   "cell_type": "code",
   "execution_count": 3,
   "id": "1bebb599",
   "metadata": {},
   "outputs": [
    {
     "name": "stdout",
     "output_type": "stream",
     "text": [
      "Chi-Square Statistic: 18.366532937961512\n",
      "P-value: 0.001046273329595159\n",
      "Degrees of Freedom: 4\n",
      "Expected Frequencies:\n",
      "[[ 7.54 10.15 11.31]\n",
      " [ 9.36 12.6  14.04]\n",
      " [ 9.1  12.25 13.65]]\n",
      "Tolak H0: Terdapat hubungan antara pendapatan dan kualitas bahan makanan yang dikonsumsi.\n"
     ]
    }
   ],
   "source": [
    "import numpy as np\n",
    "from scipy.stats import chi2_contingency\n",
    "\n",
    "# Data dari tabel\n",
    "data = np.array([[14, 6, 9],\n",
    "                 [10, 16, 10],\n",
    "                 [2, 13, 20]])\n",
    "\n",
    "# Menghitung chi-kuadrat\n",
    "chi2, p, dof, expected = chi2_contingency(data)\n",
    "\n",
    "# Menampilkan hasil\n",
    "print(f\"Chi-Square Statistic: {chi2}\")\n",
    "print(f\"P-value: {p}\")\n",
    "print(f\"Degrees of Freedom: {dof}\")\n",
    "print(\"Expected Frequencies:\")\n",
    "print(expected)\n",
    "\n",
    "# Menentukan keputusan\n",
    "alpha = 0.05\n",
    "if p < alpha:\n",
    "    print(\"Tolak H0: Terdapat hubungan antara pendapatan dan kualitas bahan makanan yang dikonsumsi.\")\n",
    "else:\n",
    "    print(\"Gagal Tolak H0: Tidak terdapat hubungan antara pendapatan dan kualitas bahan makanan yang dikonsumsi.\")\n"
   ]
  },
  {
   "cell_type": "code",
   "execution_count": 2,
   "id": "bd3b212b",
   "metadata": {},
   "outputs": [
    {
     "name": "stdout",
     "output_type": "stream",
     "text": [
      "Statistik Uji Kolmogorov-Smirnov: 0.18719291305040942\n",
      "p-value: 0.604384295406073\n",
      "Data berdistribusi normal (gagal menolak H0)\n"
     ]
    }
   ],
   "source": [
    "import numpy as np\n",
    "from scipy import stats\n",
    "\n",
    "# Data sampel nilai dari 15 mahasiswa\n",
    "data = [12, 25, 45, 67, 43, 33, 24, 45, 34, 11, 8, 34, 67, 99, 22]\n",
    "\n",
    "# Sorting data secara ascending\n",
    "data_sorted = np.sort(data)\n",
    "\n",
    "# Melakukan Uji Kolmogorov-Smirnov\n",
    "stat, p_value = stats.kstest(data_sorted, 'norm', args=(np.mean(data_sorted), np.std(data_sorted, ddof=1)))\n",
    "\n",
    "print(\"Statistik Uji Kolmogorov-Smirnov:\", stat)\n",
    "print(\"p-value:\", p_value)\n",
    "\n",
    "# Menentukan apakah data berdistribusi normal atau tidak\n",
    "alpha = 0.05\n",
    "if p_value > alpha:\n",
    "    print(\"Data berdistribusi normal (gagal menolak H0)\")\n",
    "else:\n",
    "    print(\"Data tidak berdistribusi normal (menolak H0)\")\n"
   ]
  },
  {
   "cell_type": "code",
   "execution_count": null,
   "id": "470edc85",
   "metadata": {},
   "outputs": [],
   "source": []
  }
 ],
 "metadata": {
  "kernelspec": {
   "display_name": "Python 3 (ipykernel)",
   "language": "python",
   "name": "python3"
  },
  "language_info": {
   "codemirror_mode": {
    "name": "ipython",
    "version": 3
   },
   "file_extension": ".py",
   "mimetype": "text/x-python",
   "name": "python",
   "nbconvert_exporter": "python",
   "pygments_lexer": "ipython3",
   "version": "3.11.5"
  }
 },
 "nbformat": 4,
 "nbformat_minor": 5
}
