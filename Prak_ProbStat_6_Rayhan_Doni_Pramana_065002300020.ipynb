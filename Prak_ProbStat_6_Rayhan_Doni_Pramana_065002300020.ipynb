{
  "nbformat": 4,
  "nbformat_minor": 0,
  "metadata": {
    "colab": {
      "provenance": [],
      "authorship_tag": "ABX9TyN85zLCeCAbzMROWAGuB4Br",
      "include_colab_link": true
    },
    "kernelspec": {
      "name": "python3",
      "display_name": "Python 3"
    },
    "language_info": {
      "name": "python"
    }
  },
  "cells": [
    {
      "cell_type": "markdown",
      "metadata": {
        "id": "view-in-github",
        "colab_type": "text"
      },
      "source": [
        "<a href=\"https://colab.research.google.com/github/rayhandonipramana/PraktikuPraktikumProbabilitasDanStatistika_Rayhan-Doni-Pramana/blob/main/Prak_ProbStat_6_Rayhan_Doni_Pramana_065002300020.ipynb\" target=\"_parent\"><img src=\"https://colab.research.google.com/assets/colab-badge.svg\" alt=\"Open In Colab\"/></a>"
      ]
    },
    {
      "cell_type": "code",
      "execution_count": 1,
      "metadata": {
        "colab": {
          "base_uri": "https://localhost:8080/"
        },
        "id": "VcWusxmBVE6q",
        "outputId": "4228552a-eaa7-446d-d900-9b4dcabecf8b"
      },
      "outputs": [
        {
          "output_type": "stream",
          "name": "stdout",
          "text": [
            "Interval kepercayaan 95% untuk volume rata-rata populasi kemasan oli:\n",
            "(9.646175210193167, 10.141324789806834)\n"
          ]
        }
      ],
      "source": [
        "import pandas as pd\n",
        "import numpy as np\n",
        "from scipy import stats\n",
        "\n",
        "# Membuat DataFrame dari data yang diberikan\n",
        "data = {'Volume': [9.6, 9.7, 10.5, 9.9, 9.3, 10.5, 10.1, 9.3, 9.9, 10.4, 10.1, 9.7, 9.9, 8.7, 10.2, 10.5]}\n",
        "df = pd.DataFrame(data)\n",
        "\n",
        "# Mengambil data volume dari DataFrame\n",
        "volume = df['Volume']\n",
        "\n",
        "# Menghitung rata-rata dan standar deviasi sampel\n",
        "mean_volume = np.mean(volume)\n",
        "std_dev_volume = np.std(volume, ddof=1)  # ddof untuk standar deviasi sampel\n",
        "\n",
        "# Menghitung jumlah data\n",
        "n = len(volume)\n",
        "\n",
        "# Menghitung interval kepercayaan 95%\n",
        "confidence_level = 0.95\n",
        "z_score = stats.norm.ppf((1 + confidence_level) / 2)\n",
        "margin_of_error = z_score * (std_dev_volume / np.sqrt(n))\n",
        "lower_bound = mean_volume - margin_of_error\n",
        "upper_bound = mean_volume + margin_of_error\n",
        "\n",
        "print(\"Interval kepercayaan 95% untuk volume rata-rata populasi kemasan oli:\")\n",
        "print(f\"({lower_bound}, {upper_bound})\")"
      ]
    },
    {
      "cell_type": "code",
      "source": [
        "import pandas as pd\n",
        "import numpy as np\n",
        "from scipy import stats\n",
        "\n",
        "# Membuat DataFrame dari data yang diberikan\n",
        "data = {'Volume': [9.6, 9.7, 10.5, 9.9, 9.3, 10.5, 10.1, 9.3, 9.9, 10.4, 10.1, 9.7, 9.9, 8.7, 10.2, 10.5]}\n",
        "df = pd.DataFrame(data)\n",
        "\n",
        "# Mengambil data volume dari DataFrame\n",
        "volume = df['Volume']\n",
        "\n",
        "# Menghitung rata-rata dan standar deviasi sampel\n",
        "mean_volume = np.mean(volume)\n",
        "std_dev_volume = np.std(volume, ddof=1)  # ddof untuk standar deviasi sampel\n",
        "\n",
        "# Menghitung jumlah data\n",
        "n = len(volume)\n",
        "\n",
        "# Menghitung interval kepercayaan 95%\n",
        "confidence_level = 0.50\n",
        "z_score = stats.norm.ppf((1 + confidence_level) / 2)\n",
        "margin_of_error = z_score * (std_dev_volume / np.sqrt(n))\n",
        "lower_bound = mean_volume - margin_of_error\n",
        "upper_bound = mean_volume + margin_of_error\n",
        "\n",
        "print(\"Interval kepercayaan 50% untuk volume rata-rata populasi kemasan oli:\")\n",
        "print(f\"({lower_bound}, {upper_bound})\")"
      ],
      "metadata": {
        "colab": {
          "base_uri": "https://localhost:8080/"
        },
        "id": "7VjrGHvblwVC",
        "outputId": "be83e18c-0407-4098-ba64-06700e33200f"
      },
      "execution_count": 2,
      "outputs": [
        {
          "output_type": "stream",
          "name": "stdout",
          "text": [
            "Interval kepercayaan 50% untuk volume rata-rata populasi kemasan oli:\n",
            "(9.808551159894352, 9.97894884010565)\n"
          ]
        }
      ]
    },
    {
      "cell_type": "code",
      "source": [],
      "metadata": {
        "id": "UZZQVa6Il9vd"
      },
      "execution_count": null,
      "outputs": []
    }
  ]
}