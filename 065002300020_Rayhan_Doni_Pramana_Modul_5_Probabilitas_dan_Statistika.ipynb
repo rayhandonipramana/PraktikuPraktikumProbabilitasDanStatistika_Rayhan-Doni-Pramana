{
  "nbformat": 4,
  "nbformat_minor": 0,
  "metadata": {
    "colab": {
      "provenance": [],
      "authorship_tag": "ABX9TyPYo7lGhfBmFJYQ5rkvOCpY",
      "include_colab_link": true
    },
    "kernelspec": {
      "name": "python3",
      "display_name": "Python 3"
    },
    "language_info": {
      "name": "python"
    }
  },
  "cells": [
    {
      "cell_type": "markdown",
      "metadata": {
        "id": "view-in-github",
        "colab_type": "text"
      },
      "source": [
        "<a href=\"https://colab.research.google.com/github/rayhandonipramana/PraktikuPraktikumProbabilitasDanStatistika_Rayhan-Doni-Pramana/blob/main/065002300020_Rayhan_Doni_Pramana_Modul_5_Probabilitas_dan_Statistika.ipynb\" target=\"_parent\"><img src=\"https://colab.research.google.com/assets/colab-badge.svg\" alt=\"Open In Colab\"/></a>"
      ]
    },
    {
      "cell_type": "code",
      "execution_count": 1,
      "metadata": {
        "colab": {
          "base_uri": "https://localhost:8080/"
        },
        "id": "VoaClmRa83r7",
        "outputId": "2a8d29f0-e3e5-48b4-c0bf-5cb2692ad7c0"
      },
      "outputs": [
        {
          "output_type": "stream",
          "name": "stdout",
          "text": [
            "Probabilitas tinggi kurang dari 189 cm : 0.8413447460685429\n"
          ]
        }
      ],
      "source": [
        "from scipy.stats import norm\n",
        "\n",
        "# Menentukan rat-rata dan standar deviasi\n",
        "mean = 184  # rat-rata\n",
        "std_dev = 5  # standar deviasi\n",
        "\n",
        "# Menghitung probabilitas tinggi kurang dari 189 cm\n",
        "height = 189\n",
        "prob_less_than_189 = norm.cdf(height, mean, std_dev)\n",
        "\n",
        "# Menampilkan hasil\n",
        "print(\"Probabilitas tinggi kurang dari 189 cm :\", prob_less_than_189)"
      ]
    },
    {
      "cell_type": "code",
      "source": [
        "from scipy.stats import norm\n",
        "\n",
        "# Menentukan rat-rata dan standar deviasi\n",
        "mean = 184  # rat-rata\n",
        "std_dev = 5  # standar deviasi\n",
        "\n",
        "# Menghitung probabilitas tinggi kurang dari 174 cm\n",
        "prob_less_than_174 = norm.cdf(174, mean, std_dev)\n",
        "\n",
        "# Menghitung probabilitas tinggi kurang dari 199 cm\n",
        "prob_less_than_199 = norm.cdf(199, mean, std_dev)\n",
        "\n",
        "# Kemungkinan antara 174 cm dan 199 cm adalah selisih antara probabilitas kurang dari 199 dan kurang dari 174\n",
        "prob_between_174_and_199 = prob_less_than_199 - prob_less_than_174\n",
        "\n",
        "# Menampilkan hasil\n",
        "print(\"Probabilitas tinggi antara 174 cm dan 199 cm :\", prob_between_174_and_199)\n"
      ],
      "metadata": {
        "colab": {
          "base_uri": "https://localhost:8080/"
        },
        "id": "Yc7wk1Nv-9PZ",
        "outputId": "f3f1ae64-e8df-4929-da37-6a92fcd2d4cc"
      },
      "execution_count": 2,
      "outputs": [
        {
          "output_type": "stream",
          "name": "stdout",
          "text": [
            "Probabilitas tinggi antara 174 cm dan 199 cm : 0.9758999700201907\n"
          ]
        }
      ]
    },
    {
      "cell_type": "code",
      "source": [
        "from scipy.stats import norm\n",
        "\n",
        "# Menentukan rat-rata dan standar deviasi\n",
        "mean = 173  # rat-rata\n",
        "std_dev = 34  # standar deviasi\n",
        "\n",
        "# Menghitung probabilitas apel berkualitas \"not good\" (berat kuurang dari 120 gram)\n",
        "prob_not_good = norm.cdf(120, mean, std_dev)\n",
        "\n",
        "# Menampilkan hasil\n",
        "print(\"Peluang apel yang berkualitas 'not good' : {:.4f}\". format(prob_not_good))"
      ],
      "metadata": {
        "colab": {
          "base_uri": "https://localhost:8080/"
        },
        "id": "UpSJpfozAl1d",
        "outputId": "a3318f8c-d043-4f15-f748-e7b94ea89288"
      },
      "execution_count": 3,
      "outputs": [
        {
          "output_type": "stream",
          "name": "stdout",
          "text": [
            "Peluang apel yang berkualitas 'not good' : 0.0595\n"
          ]
        }
      ]
    },
    {
      "cell_type": "code",
      "source": [
        "# Definisi laju kedatangan dan laju pelayanan\n",
        "arrival_rate = 1/10  # pelanggan per menit\n",
        "service_rate = 1/8   # pelanggan per menit\n",
        "\n",
        "# Menghitung rata-rata jumlah pelanggan dalam sistem (L)\n",
        "L = arrival_rate / (service_rate - arrival_rate)\n",
        "\n",
        "# Menghitung rata-rata waktu setiap pelanggan berada dalam sistem (W)\n",
        "W = L / arrival_rate\n",
        "# Menampilkan hasil\n",
        "print(\"Rata-rata jumlah pelanggan dalam sistem (L): {:.2f}\". format(L))\n",
        "print(\"Rata-rata waktu setiap pelanggan berada dalam sistem (W): {:.2f}\". format(W))"
      ],
      "metadata": {
        "colab": {
          "base_uri": "https://localhost:8080/"
        },
        "id": "9sF7U53lBiz8",
        "outputId": "f1732630-3bd1-41f9-9cd9-67f4e9aa5c5a"
      },
      "execution_count": 7,
      "outputs": [
        {
          "output_type": "stream",
          "name": "stdout",
          "text": [
            "Rata-rata jumlah pelanggan dalam sistem (L): 4.00\n",
            "Rata-rata waktu setiap pelanggan berada dalam sistem (W): 40.00\n"
          ]
        }
      ]
    },
    {
      "cell_type": "code",
      "source": [
        "from scipy.stats import expon\n",
        "\n",
        "# Rerata waktu pelayanan (mu)\n",
        "mean_service_time = 7  # menit\n",
        "\n",
        "# Menghitung peluang seseorang dilayani antara 3 sampai 5 menit\n",
        "prob_between_3_and_5 = expon.cdf(5, scale=mean_service_time) - expon.cdf(3, scale=mean_service_time)\n",
        "\n",
        "# Menampilkan hasil\n",
        "print(\"Peluang seseorang dilayani antara 3 sampai 5 menit : {:.7f}\".format(prob_between_3_and_5))"
      ],
      "metadata": {
        "colab": {
          "base_uri": "https://localhost:8080/"
        },
        "id": "3-m5DAjpC6wi",
        "outputId": "8e6c6bcf-69ce-47fc-f0a6-04f47e64845e"
      },
      "execution_count": 8,
      "outputs": [
        {
          "output_type": "stream",
          "name": "stdout",
          "text": [
            "Peluang seseorang dilayani antara 3 sampai 5 menit : 0.1618974\n"
          ]
        }
      ]
    },
    {
      "cell_type": "code",
      "source": [
        "from scipy.stats import poisson\n",
        "\n",
        "# Rata-rata pelanggan per menit (λ)\n",
        "mean_arrival_rate = 5\n",
        "\n",
        "# Menghitung peluang lebih dari 1 pelanggan tiba dalam periode 2 menit\n",
        "prob_more_than_6_arrivals = 1 - poisson.cdf(6, mu=mean_arrival_rate * 2)\n",
        "\n",
        "# Menampilkan hasil\n",
        "print(\"Peluang lebih dari 6 pelanggan akan tiba dalam periode 2 menit berikutnya : {:.7f}\".format(prob_more_than_6_arrivals))"
      ],
      "metadata": {
        "colab": {
          "base_uri": "https://localhost:8080/"
        },
        "id": "89y87u6wEHpB",
        "outputId": "b82c4a57-db96-46f5-add0-fdce13135175"
      },
      "execution_count": 9,
      "outputs": [
        {
          "output_type": "stream",
          "name": "stdout",
          "text": [
            "Peluang lebih dari 6 pelanggan akan tiba dalam periode 2 menit berikutnya : 0.8698586\n"
          ]
        }
      ]
    },
    {
      "cell_type": "code",
      "source": [
        "from scipy.stats import norm\n",
        "\n",
        "# Menampilkan rata-rata dan standar deviasi\n",
        "mean = 184  # rata-rata\n",
        "std_dev = 5  # standar deviasi\n",
        "\n",
        "# Probabilitas tinggi lebih tinggi dari tinggi tertentu\n",
        "prob_more_than = 1 - 0.1685\n",
        "\n",
        "# Menggunakan fungsi quntile untuk menemukan tinggi yang sesuai\n",
        "heiht = norm.ppf(prob_more_than, mean, std_dev)\n",
        "\n",
        "# Menampilkan hasil\n",
        "print(\"Tinggi sedemikian rupa sehingga 16,85% pemain basket lebih tinggi dari {:.2f} cm\".format(height))"
      ],
      "metadata": {
        "colab": {
          "base_uri": "https://localhost:8080/"
        },
        "id": "OZqXPWiBFm_Y",
        "outputId": "6e3ee7ac-e4c7-4e37-82bb-8281f1e5b40f"
      },
      "execution_count": 10,
      "outputs": [
        {
          "output_type": "stream",
          "name": "stdout",
          "text": [
            "Tinggi sedemikian rupa sehingga 16,85% pemain basket lebih tinggi dari 189.00 cm\n"
          ]
        }
      ]
    },
    {
      "cell_type": "code",
      "source": [
        "from scipy.stats import binom\n",
        "\n",
        "# Menentukan parameter distribusi binomial\n",
        "n = 8  # total junlah apel\n",
        "p = 0.06  # probabilitas apel berkualitas \"not good\"\n",
        "\n",
        "# Menghitung probabilitas jumlah apel berkualitas \"not good\" kurang dari satu atau sama dengan 2\n",
        "prob_not_good_2_or_less = binom.cdf(2, n, p)\n",
        "\n",
        "# Menampilkan hasil\n",
        "print(\"Probabilitas kurang dari atau sama dengan 2 aoel berkualitas 'not good' : {:.7f}\".format(prob_not_good_2_or_less))"
      ],
      "metadata": {
        "colab": {
          "base_uri": "https://localhost:8080/"
        },
        "id": "ToZFQ8lyGoIE",
        "outputId": "aaf7fe55-91e4-4a42-9772-59b6415c2058"
      },
      "execution_count": 1,
      "outputs": [
        {
          "output_type": "stream",
          "name": "stdout",
          "text": [
            "Probabilitas kurang dari atau sama dengan 2 aoel berkualitas 'not good' : 0.9903771\n"
          ]
        }
      ]
    },
    {
      "cell_type": "code",
      "source": [
        "# Definisi laju kedatangan dan laju pelayanan\n",
        "arrival_rate_new = 1/16  # pelanggan per menit\n",
        "service_rate = 1/8\n",
        "\n",
        "# Menghitung ulang rat-rata jumlah pelanggan dalam sistem (L)\n",
        "L_new = arrival_rate_new / (service_rate - arrival_rate_new)\n",
        "\n",
        "# Menghitung ulang rat-rata waktu setiap pelanggan berada dalam sistem (W)\n",
        "W_new = L_new / arrival_rate_new\n",
        "\n",
        "# Menampilkan hasil\n",
        "print(\"Rata-rata jumlah pelanggan dalam setiap sistem (L) setelah perubahan : {:.2f}\".format(L_new))\n",
        "print(\"Rata-rata waktu setiap pelanggan berada dalam sistem (W) setelah perubahan : {:.2f}\".format(W_new))"
      ],
      "metadata": {
        "colab": {
          "base_uri": "https://localhost:8080/"
        },
        "id": "BR9Z2pJkH429",
        "outputId": "e9d7985e-2e75-4a46-8e67-a465cc173b07"
      },
      "execution_count": 3,
      "outputs": [
        {
          "output_type": "stream",
          "name": "stdout",
          "text": [
            "Rata-rata jumlah pelanggan dalam setiap sistem (L) setelah perubahan : 1.00\n",
            "Rata-rata waktu setiap pelanggan berada dalam sistem (W) setelah perubahan : 16.00\n"
          ]
        }
      ]
    },
    {
      "cell_type": "code",
      "source": [
        "from scipy.stats import expon\n",
        "\n",
        "# Rerata waktu pelayanan (mu)\n",
        "mean_service_time = 7  # menit\n",
        "\n",
        "# Menghitung peluang seseorang mendapatkan pelayanan lebih dari 8 menit\n",
        "prob_more_than_8_minutes = 1- expon.cdf(8, scale=mean_service_time)\n",
        "\n",
        "# Menampilkan hasil\n",
        "print(\"Peluang seseorang mendapatkan pelayanan lenih dari 8 menit : {:.7f}\".format(prob_more_than_8_minutes))"
      ],
      "metadata": {
        "colab": {
          "base_uri": "https://localhost:8080/"
        },
        "id": "AVa0Zlc9KBpj",
        "outputId": "6dba5945-b116-4b7c-9701-a81565b39b80"
      },
      "execution_count": 4,
      "outputs": [
        {
          "output_type": "stream",
          "name": "stdout",
          "text": [
            "Peluang seseorang mendapatkan pelayanan lenih dari 8 menit : 0.3189066\n"
          ]
        }
      ]
    },
    {
      "cell_type": "code",
      "source": [
        "from scipy.stats import poisson\n",
        "\n",
        "# Rata-rata pelanggan per menit (λ)\n",
        "mean_arrival_rate = 5\n",
        "\n",
        "# Menghitung peluang tepat 4 pelanggan akan datang dalam 1 menit\n",
        "prob_4_arrivals = poisson.pmf(4, mu=mean_arrival_rate)\n",
        "\n",
        "# Menampilkan hasil\n",
        "print(\"Peluang bahwa dalam 1 menit berikutnya terdapat tepat 4 pelanggan yang akan datang : {:.7f}\".format(prob_4_arrivals))"
      ],
      "metadata": {
        "colab": {
          "base_uri": "https://localhost:8080/"
        },
        "id": "z9p48auIK_8S",
        "outputId": "1ec3bd52-aed7-438c-abd5-04554b2f82ed"
      },
      "execution_count": 5,
      "outputs": [
        {
          "output_type": "stream",
          "name": "stdout",
          "text": [
            "Peluang bahwa dalam 1 menit berikutnya terdapat tepat 4 pelanggan yang akan datang : 0.1754674\n"
          ]
        }
      ]
    },
    {
      "cell_type": "code",
      "source": [
        "# Rata-rata pelanggan per menit ()\n",
        "mean_arrival_rate = 5\n",
        "\n",
        "# Menghitung rata-rata jumlah kedatangan selama periode 1 jam\n",
        "mean_arrivals_per_hour = mean_arrival_rate * 60  # 60 menit dalam satu jam\n",
        "\n",
        "# Menampilkan hasil\n",
        "print(\"Rata-rata jumlah kedatangan selama periode 1 jam : {:.2f}\".format(mean_arrivals_per_hour))"
      ],
      "metadata": {
        "colab": {
          "base_uri": "https://localhost:8080/"
        },
        "id": "dciWBCgnLxPm",
        "outputId": "a99ece62-d143-4d23-ee18-ece3aa31b2b2"
      },
      "execution_count": 6,
      "outputs": [
        {
          "output_type": "stream",
          "name": "stdout",
          "text": [
            "Rata-rata jumlah kedatangan selama periode 1 jam : 300.00\n"
          ]
        }
      ]
    }
  ]
}