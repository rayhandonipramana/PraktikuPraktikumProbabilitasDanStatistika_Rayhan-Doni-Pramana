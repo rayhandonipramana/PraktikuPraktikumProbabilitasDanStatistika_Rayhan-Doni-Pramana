{
 "cells": [
  {
   "cell_type": "code",
   "execution_count": 1,
   "id": "8a83c219",
   "metadata": {},
   "outputs": [
    {
     "name": "stdout",
     "output_type": "stream",
     "text": [
      "Probabilitas P(X=k) untuk distribusi binomial: 0.1171875\n"
     ]
    }
   ],
   "source": [
    "import math\n",
    "\n",
    "# Fungsi untuk menghitung kombinasi (n chose k)\n",
    "def n_choose_k(n, k):\n",
    "    return math.factorial(n) / (math.factorial(k) * math.factorial(n-k))\n",
    "\n",
    "# Fungsi untuk menghitung probabilitas P(X=k) dalam distribusi binomial\n",
    "def binomial_probability(n, k, p):\n",
    "    return n_choose_k(n, k) * (p**k) * ((1-p) ** (n-k))\n",
    "\n",
    "# Parameter distribusi binomial\n",
    "n = 10 # jumlah percobaan\n",
    "p = 0.5 # probabilitas keberhasilan dalam satu percobaaan\n",
    "k = 3 # jumlah keberhasilan yang diinginkan\n",
    "\n",
    "# Menghitung probabilitas P(X=k) untuk distribusi binomial\n",
    "prob_binomial = binomial_probability(n, k, p)\n",
    "print(\"Probabilitas P(X=k) untuk distribusi binomial:\", prob_binomial)"
   ]
  },
  {
   "cell_type": "code",
   "execution_count": 2,
   "id": "12a77806",
   "metadata": {},
   "outputs": [
    {
     "name": "stdout",
     "output_type": "stream",
     "text": [
      "Probabilitas P(X=k) untuk distribusi binomial: 0.1171875\n"
     ]
    }
   ],
   "source": [
    "from scipy.stats import binom\n",
    "\n",
    "# Distribusi Binomial\n",
    "n = 10 # jumlah percobaan\n",
    "p = 0.5 # probabilitas keberhasilan dalam satu percobaaan\n",
    "k = 3 # jumlah keberhasilan yang diinginkan\n",
    "\n",
    "prob_binomial = binomial_probability(n, k, p)\n",
    "print(\"Probabilitas P(X=k) untuk distribusi binomial:\", prob_binomial)"
   ]
  },
  {
   "cell_type": "code",
   "execution_count": 4,
   "id": "14201f85",
   "metadata": {},
   "outputs": [
    {
     "name": "stdout",
     "output_type": "stream",
     "text": [
      "Probabilitas P(X=k) untuk distribusi poisson: 0.22404180765538775\n"
     ]
    }
   ],
   "source": [
    "import math\n",
    "\n",
    "# Fungsi untuk menghitung probabilitas P(X=k) dalam distribusi poisson\n",
    "def poisson_probability(lambd, k):\n",
    "    return(lambd**k) * math.exp(-lambd) / math.factorial(k)\n",
    "\n",
    "# Parameter distribusi poisson\n",
    "lambd = 3 # Rata_rata jumlah peristiwa dalam interval waktu/titik\n",
    "k = 2 # Jumlah peristiwa yang diinginkan\n",
    "\n",
    "# Menghitung probabilitas  P(X=k) untuk distribusi poisson\n",
    "prob_poisson = poisson_probability(lambd, k)\n",
    "print(\"Probabilitas P(X=k) untuk distribusi poisson:\", prob_poisson)"
   ]
  },
  {
   "cell_type": "code",
   "execution_count": 5,
   "id": "8bfd805a",
   "metadata": {},
   "outputs": [
    {
     "name": "stdout",
     "output_type": "stream",
     "text": [
      "Probabilitas P(X=k) untuk distribusi poisson: 0.22404180765538775\n"
     ]
    }
   ],
   "source": [
    "from scipy.stats import poisson\n",
    "\n",
    "# Distribusi poisson\n",
    "lambd = 3 # Rata_rata jumlah peristiwa dalam interval waktu/titik\n",
    "k = 2 # Jumlah peristiwa yang diinginkan\n",
    "\n",
    "prob_poisson = poisson.pmf(k, lambd)\n",
    "print(\"Probabilitas P(X=k) untuk distribusi poisson:\", prob_poisson)"
   ]
  },
  {
   "cell_type": "code",
   "execution_count": 6,
   "id": "09793b69",
   "metadata": {},
   "outputs": [
    {
     "name": "stdout",
     "output_type": "stream",
     "text": [
      "0.1285054390988551\n"
     ]
    }
   ],
   "source": [
    "from scipy import stats\n",
    "X = stats.binom(15, 0.1)\n",
    "print(X.pmf(3))      # P(X = 3)"
   ]
  },
  {
   "cell_type": "code",
   "execution_count": 7,
   "id": "e72ee060",
   "metadata": {},
   "outputs": [
    {
     "name": "stdout",
     "output_type": "stream",
     "text": [
      "0.8159389308936089\n"
     ]
    }
   ],
   "source": [
    "print(X.cdf(2))   # P(X <= 2)"
   ]
  },
  {
   "cell_type": "code",
   "execution_count": 8,
   "id": "98049c89",
   "metadata": {},
   "outputs": [
    {
     "name": "stdout",
     "output_type": "stream",
     "text": [
      "0.002216045197080002\n"
     ]
    }
   ],
   "source": [
    "print(X.pmf(6)+X.pmf(7))"
   ]
  },
  {
   "cell_type": "code",
   "execution_count": 9,
   "id": "02d29047",
   "metadata": {},
   "outputs": [
    {
     "name": "stdout",
     "output_type": "stream",
     "text": [
      "0.17546736976785063\n"
     ]
    }
   ],
   "source": [
    "from scipy import stats\n",
    "Y = stats.poisson(5)\n",
    "print(Y.pmf(4))   # P(Y = 4)"
   ]
  },
  {
   "cell_type": "code",
   "execution_count": 10,
   "id": "53d85f0e",
   "metadata": {},
   "outputs": [
    {
     "name": "stdout",
     "output_type": "stream",
     "text": [
      "0.17886305056987967\n"
     ]
    }
   ],
   "source": [
    "from scipy import stats\n",
    "\n",
    "# Mendefinisikan variabel X sebagai distribusi binomial dengan 15 percobaan dan probabilitaas sukses 0.1\n",
    "X = stats.binom(20, 0.7)\n",
    "\n",
    "# Menghitung probabilitas massa X sama dengan 3\n",
    "pmf_15 = X.pmf(15)\n",
    "\n",
    "# Menghitung nilai probabilitas\n",
    "print(pmf_15)"
   ]
  },
  {
   "cell_type": "code",
   "execution_count": 11,
   "id": "8f79b190",
   "metadata": {},
   "outputs": [
    {
     "name": "stdout",
     "output_type": "stream",
     "text": [
      "0.18044704431548356\n"
     ]
    }
   ],
   "source": [
    "from scipy import stats\n",
    "Y = stats.poisson(2)\n",
    "\n",
    "print(Y.pmf(3))    # \\(P(Y = 3)\\)"
   ]
  },
  {
   "cell_type": "code",
   "execution_count": null,
   "id": "84f5d164",
   "metadata": {},
   "outputs": [],
   "source": [
    "from scipy import stats\n",
    "\n",
    "# Mendefinisikan variabel X sebagai distribusi binomial dengan 15 percobaan dan probabilitaas sukses 0.1\n",
    "X = stats.binom(15, 0.3)\n",
    "\n",
    "# Menghitung probabilitas massa X sama dengan 3\n",
    "pmf_5 = X.pmf(5)\n",
    "\n",
    "# Menghitung nilai probabilitas\n",
    "print(pmf_5)"
   ]
  },
  {
   "cell_type": "code",
   "execution_count": null,
   "id": "3ddaa387",
   "metadata": {},
   "outputs": [],
   "source": []
  }
 ],
 "metadata": {
  "kernelspec": {
   "display_name": "Python 3 (ipykernel)",
   "language": "python",
   "name": "python3"
  },
  "language_info": {
   "codemirror_mode": {
    "name": "ipython",
    "version": 3
   },
   "file_extension": ".py",
   "mimetype": "text/x-python",
   "name": "python",
   "nbconvert_exporter": "python",
   "pygments_lexer": "ipython3",
   "version": "3.11.5"
  }
 },
 "nbformat": 4,
 "nbformat_minor": 5
}
